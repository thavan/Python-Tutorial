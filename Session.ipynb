{
 "cells": [
  {
   "cell_type": "code",
   "execution_count": 1,
   "id": "cb496766-21ce-479d-a89b-4b79e59ac7b1",
   "metadata": {},
   "outputs": [],
   "source": [
    "basket = ['Apple', 'Orange', 'Banana']"
   ]
  },
  {
   "cell_type": "code",
   "execution_count": 2,
   "id": "e36725a8-da91-4c90-941e-3172e3b6e602",
   "metadata": {},
   "outputs": [
    {
     "name": "stdout",
     "output_type": "stream",
     "text": [
      "Apple\n",
      "Orange\n",
      "Banana\n"
     ]
    }
   ],
   "source": [
    "for fruit in basket:\n",
    "    print(fruit)"
   ]
  },
  {
   "cell_type": "code",
   "execution_count": 3,
   "id": "db9f3ea2-8c51-40ac-b173-0f4b771db671",
   "metadata": {},
   "outputs": [],
   "source": [
    "it = basket.__iter__()"
   ]
  },
  {
   "cell_type": "code",
   "execution_count": 4,
   "id": "288a135e-d58c-4cfc-925a-526e10d1797b",
   "metadata": {},
   "outputs": [
    {
     "data": {
      "text/plain": [
       "<list_iterator at 0x10ff3a9e0>"
      ]
     },
     "execution_count": 4,
     "metadata": {},
     "output_type": "execute_result"
    }
   ],
   "source": [
    "it"
   ]
  },
  {
   "cell_type": "code",
   "execution_count": 6,
   "id": "8043ec76-8938-449c-a60c-fdc469f73ad3",
   "metadata": {},
   "outputs": [
    {
     "data": {
      "text/plain": [
       "'Apple'"
      ]
     },
     "execution_count": 6,
     "metadata": {},
     "output_type": "execute_result"
    }
   ],
   "source": [
    "it.__next__()"
   ]
  },
  {
   "cell_type": "code",
   "execution_count": 9,
   "id": "954bd631-caf2-44d8-91f3-0a0e769b6f97",
   "metadata": {},
   "outputs": [
    {
     "ename": "StopIteration",
     "evalue": "",
     "output_type": "error",
     "traceback": [
      "\u001b[0;31m---------------------------------------------------------------------------\u001b[0m",
      "\u001b[0;31mStopIteration\u001b[0m                             Traceback (most recent call last)",
      "Cell \u001b[0;32mIn [9], line 1\u001b[0m\n\u001b[0;32m----> 1\u001b[0m \u001b[38;5;28;43mnext\u001b[39;49m\u001b[43m(\u001b[49m\u001b[43mit\u001b[49m\u001b[43m)\u001b[49m\n",
      "\u001b[0;31mStopIteration\u001b[0m: "
     ]
    }
   ],
   "source": [
    "next(it)"
   ]
  },
  {
   "cell_type": "code",
   "execution_count": 16,
   "id": "9a3aba1b-7ae3-4734-900e-d0f3ca2f489b",
   "metadata": {},
   "outputs": [],
   "source": [
    "f = open('demo/store/data/sales.csv')"
   ]
  },
  {
   "cell_type": "code",
   "execution_count": 17,
   "id": "00940044-6ea2-4a48-a19a-e7a5e38a563c",
   "metadata": {},
   "outputs": [],
   "source": [
    "it = f.__iter__()"
   ]
  },
  {
   "cell_type": "code",
   "execution_count": 18,
   "id": "bd7daf86-0996-4041-9213-f90d418edee5",
   "metadata": {},
   "outputs": [
    {
     "data": {
      "text/plain": [
       "'name,date,count,price\\n'"
      ]
     },
     "execution_count": 18,
     "metadata": {},
     "output_type": "execute_result"
    }
   ],
   "source": [
    "next(it)"
   ]
  },
  {
   "cell_type": "code",
   "execution_count": 19,
   "id": "c0961df9-13c1-4d25-90ac-081f71c74dfd",
   "metadata": {},
   "outputs": [],
   "source": [
    "s = 'Hello'"
   ]
  },
  {
   "cell_type": "code",
   "execution_count": 20,
   "id": "ed6f642d-da10-4e84-9147-f53d9a6cd3d1",
   "metadata": {},
   "outputs": [],
   "source": [
    "it = s.__iter__()"
   ]
  },
  {
   "cell_type": "code",
   "execution_count": 26,
   "id": "218d14ba-47ee-4893-8353-a4436b9e8b32",
   "metadata": {},
   "outputs": [
    {
     "ename": "StopIteration",
     "evalue": "",
     "output_type": "error",
     "traceback": [
      "\u001b[0;31m---------------------------------------------------------------------------\u001b[0m",
      "\u001b[0;31mStopIteration\u001b[0m                             Traceback (most recent call last)",
      "Cell \u001b[0;32mIn [26], line 1\u001b[0m\n\u001b[0;32m----> 1\u001b[0m \u001b[38;5;28;43mnext\u001b[39;49m\u001b[43m(\u001b[49m\u001b[43mit\u001b[49m\u001b[43m)\u001b[49m\n",
      "\u001b[0;31mStopIteration\u001b[0m: "
     ]
    }
   ],
   "source": [
    "next(it)"
   ]
  },
  {
   "cell_type": "code",
   "execution_count": 39,
   "id": "560153d5-cf29-43f4-bf1d-3020d2000956",
   "metadata": {},
   "outputs": [],
   "source": [
    "class Sentence(object):\n",
    "    def __init__(self, text):\n",
    "        self.text = text\n",
    "        self.words = text.split(' ')\n",
    "        \n",
    "    def __getitem__(self, index):\n",
    "        return self.words[index]\n",
    "    \n",
    "    def __len__(self):\n",
    "        return len(self.words)"
   ]
  },
  {
   "cell_type": "code",
   "execution_count": 40,
   "id": "00e5e75b-89f7-4979-ba27-fe22650b2edc",
   "metadata": {},
   "outputs": [],
   "source": [
    "s = Sentence('Winter is coming!')"
   ]
  },
  {
   "cell_type": "code",
   "execution_count": 41,
   "id": "0c84fd22-effa-4532-8d81-d7079f9c05c8",
   "metadata": {},
   "outputs": [
    {
     "name": "stdout",
     "output_type": "stream",
     "text": [
      "Winter\n",
      "is\n",
      "coming!\n"
     ]
    }
   ],
   "source": [
    "for word in s:\n",
    "    print(word)"
   ]
  },
  {
   "cell_type": "code",
   "execution_count": 42,
   "id": "5b732570-8c16-4a03-ba03-80c6ade1efd3",
   "metadata": {},
   "outputs": [
    {
     "data": {
      "text/plain": [
       "3"
      ]
     },
     "execution_count": 42,
     "metadata": {},
     "output_type": "execute_result"
    }
   ],
   "source": [
    "len(s)"
   ]
  },
  {
   "cell_type": "code",
   "execution_count": 44,
   "id": "3a583f11-2556-4141-bc36-19312789156e",
   "metadata": {},
   "outputs": [],
   "source": [
    "class Sentence(object):\n",
    "    def __init__(self, text):\n",
    "        self.text = text\n",
    "        self.words = text.split(' ')\n",
    "        \n",
    "    def __iter__(self):\n",
    "        return SentenceIterator(self.words)"
   ]
  },
  {
   "cell_type": "code",
   "execution_count": 45,
   "id": "d2098a02-50c5-4b38-8be3-b02f5362f971",
   "metadata": {},
   "outputs": [],
   "source": [
    "class SentenceIterator:\n",
    "    def __init__(self, words):\n",
    "        self.words = words\n",
    "        self.index = 0\n",
    "        \n",
    "    def __next__(self):\n",
    "        try:\n",
    "            word = self.words[self.index]\n",
    "        except IndexError:\n",
    "            raise StopIteration()\n",
    "        self.index += 1\n",
    "        return word\n",
    "\n",
    "    def __iter__(self):\n",
    "        return self"
   ]
  },
  {
   "cell_type": "code",
   "execution_count": 46,
   "id": "d3a27748-e70b-4e10-897c-a06d9e5f1d3c",
   "metadata": {},
   "outputs": [],
   "source": [
    "s = Sentence(\"Winter is coming!\")"
   ]
  },
  {
   "cell_type": "code",
   "execution_count": 47,
   "id": "59430dec-2246-4de1-99a2-2416731f0e91",
   "metadata": {},
   "outputs": [
    {
     "name": "stdout",
     "output_type": "stream",
     "text": [
      "Winter\n",
      "is\n",
      "coming!\n"
     ]
    }
   ],
   "source": [
    "for word in s:\n",
    "    print(word)"
   ]
  },
  {
   "cell_type": "code",
   "execution_count": 48,
   "id": "43cf7df0-3531-48bc-a8de-f996e4182410",
   "metadata": {},
   "outputs": [],
   "source": [
    "it = s.__iter__()"
   ]
  },
  {
   "cell_type": "code",
   "execution_count": 49,
   "id": "69c3dda4-12ca-4f5c-9fcc-9e369a378b1d",
   "metadata": {},
   "outputs": [
    {
     "data": {
      "text/plain": [
       "<__main__.SentenceIterator at 0x11019aa40>"
      ]
     },
     "execution_count": 49,
     "metadata": {},
     "output_type": "execute_result"
    }
   ],
   "source": [
    "it"
   ]
  },
  {
   "cell_type": "code",
   "execution_count": 71,
   "id": "d0c0b2e4-a251-481e-ba4d-a2dede62f58a",
   "metadata": {},
   "outputs": [],
   "source": [
    "def num_gen():\n",
    "    print('Priming')\n",
    "    yield 1\n",
    "    print('before returning 2')\n",
    "    yield 2\n",
    "    print('before returning 3')\n",
    "    yield 3\n",
    "    print('Done')"
   ]
  },
  {
   "cell_type": "code",
   "execution_count": 72,
   "id": "cdaf868a-9989-47dc-8cba-03c5e7fe1007",
   "metadata": {},
   "outputs": [],
   "source": [
    "g = num_gen()"
   ]
  },
  {
   "cell_type": "code",
   "execution_count": 73,
   "id": "ff25acb1-d2ec-4302-97de-5d512adaec82",
   "metadata": {},
   "outputs": [
    {
     "name": "stdout",
     "output_type": "stream",
     "text": [
      "Priming\n"
     ]
    },
    {
     "data": {
      "text/plain": [
       "1"
      ]
     },
     "execution_count": 73,
     "metadata": {},
     "output_type": "execute_result"
    }
   ],
   "source": [
    "next(g)"
   ]
  },
  {
   "cell_type": "code",
   "execution_count": 74,
   "id": "abbe3b65-ea8a-4dcb-8bcb-ce818f6b4f7b",
   "metadata": {},
   "outputs": [
    {
     "name": "stdout",
     "output_type": "stream",
     "text": [
      "before returning 2\n",
      "before returning 3\n",
      "Done\n"
     ]
    },
    {
     "data": {
      "text/plain": [
       "[2, 3]"
      ]
     },
     "execution_count": 74,
     "metadata": {},
     "output_type": "execute_result"
    }
   ],
   "source": [
    "list(g)"
   ]
  },
  {
   "cell_type": "code",
   "execution_count": 75,
   "id": "fb247ef4-9032-404a-8f8b-441cb98d901d",
   "metadata": {},
   "outputs": [],
   "source": [
    "class Sentence(object):\n",
    "    def __init__(self, text):\n",
    "        self.text = text\n",
    "        self.words = text.split(' ')\n",
    "    def __iter__(self):\n",
    "        for word in self.words:\n",
    "            yield word"
   ]
  },
  {
   "cell_type": "code",
   "execution_count": 76,
   "id": "b3501294-17b1-44f5-8886-9f253628b01a",
   "metadata": {},
   "outputs": [],
   "source": [
    "s = Sentence('Winter is coming!')"
   ]
  },
  {
   "cell_type": "code",
   "execution_count": 78,
   "id": "5254bd68-d954-41ff-a6ba-d98cb23a4336",
   "metadata": {},
   "outputs": [
    {
     "name": "stdout",
     "output_type": "stream",
     "text": [
      "Winter\n",
      "is\n",
      "coming!\n"
     ]
    }
   ],
   "source": [
    "for word in s:\n",
    "    print(word)"
   ]
  },
  {
   "cell_type": "code",
   "execution_count": 82,
   "id": "8882c329-aee7-4a85-a326-496d2c283b74",
   "metadata": {},
   "outputs": [],
   "source": [
    "import time\n",
    "def tail(filename):\n",
    "    with open(filename) as f:\n",
    "        while True:\n",
    "            line = f.readline()\n",
    "            if not line:\n",
    "                time.sleep(.1)\n",
    "            else:\n",
    "                yield line"
   ]
  },
  {
   "cell_type": "code",
   "execution_count": 83,
   "id": "a3675e10-516c-4e69-941e-2081d8d68d88",
   "metadata": {},
   "outputs": [],
   "source": [
    "f = tail('debug.log')"
   ]
  },
  {
   "cell_type": "code",
   "execution_count": null,
   "id": "e0d46896-fac6-42c8-a60a-5d817b9d1fde",
   "metadata": {},
   "outputs": [
    {
     "name": "stdout",
     "output_type": "stream",
     "text": [
      "Hello\n",
      "\n",
      "world\n",
      "\n",
      "Hello\n",
      "\n",
      "World\n",
      "\n",
      "Python\n",
      "\n",
      "Django\n",
      "\n"
     ]
    }
   ],
   "source": [
    "for line in f:\n",
    "    print(line)"
   ]
  },
  {
   "cell_type": "code",
   "execution_count": null,
   "id": "871ec336-3772-4ae9-8499-e3f8e8adf104",
   "metadata": {},
   "outputs": [],
   "source": []
  }
 ],
 "metadata": {
  "kernelspec": {
   "display_name": "Python 3 (ipykernel)",
   "language": "python",
   "name": "python3"
  },
  "language_info": {
   "codemirror_mode": {
    "name": "ipython",
    "version": 3
   },
   "file_extension": ".py",
   "mimetype": "text/x-python",
   "name": "python",
   "nbconvert_exporter": "python",
   "pygments_lexer": "ipython3",
   "version": "3.10.6"
  }
 },
 "nbformat": 4,
 "nbformat_minor": 5
}
